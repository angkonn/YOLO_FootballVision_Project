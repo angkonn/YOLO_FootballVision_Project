{
 "cells": [
  {
   "cell_type": "code",
   "execution_count": 2,
   "id": "37a7f187",
   "metadata": {},
   "outputs": [
    {
     "name": "stdout",
     "output_type": "stream",
     "text": [
      "Requirement already satisfied: ultralytics in c:\\users\\88018\\desktop\\yolo-footballvision-project\\.conda\\lib\\site-packages (8.3.147)\n",
      "Requirement already satisfied: numpy>=1.23.0 in c:\\users\\88018\\desktop\\yolo-footballvision-project\\.conda\\lib\\site-packages (from ultralytics) (2.2.6)\n",
      "Requirement already satisfied: matplotlib>=3.3.0 in c:\\users\\88018\\desktop\\yolo-footballvision-project\\.conda\\lib\\site-packages (from ultralytics) (3.10.3)\n",
      "Requirement already satisfied: opencv-python>=4.6.0 in c:\\users\\88018\\desktop\\yolo-footballvision-project\\.conda\\lib\\site-packages (from ultralytics) (4.11.0.86)\n",
      "Requirement already satisfied: pillow>=7.1.2 in c:\\users\\88018\\desktop\\yolo-footballvision-project\\.conda\\lib\\site-packages (from ultralytics) (11.2.1)\n",
      "Requirement already satisfied: pyyaml>=5.3.1 in c:\\users\\88018\\desktop\\yolo-footballvision-project\\.conda\\lib\\site-packages (from ultralytics) (6.0.2)\n",
      "Requirement already satisfied: requests>=2.23.0 in c:\\users\\88018\\desktop\\yolo-footballvision-project\\.conda\\lib\\site-packages (from ultralytics) (2.32.3)\n",
      "Requirement already satisfied: scipy>=1.4.1 in c:\\users\\88018\\desktop\\yolo-footballvision-project\\.conda\\lib\\site-packages (from ultralytics) (1.15.3)\n",
      "Requirement already satisfied: torch>=1.8.0 in c:\\users\\88018\\desktop\\yolo-footballvision-project\\.conda\\lib\\site-packages (from ultralytics) (2.7.0)\n",
      "Requirement already satisfied: torchvision>=0.9.0 in c:\\users\\88018\\desktop\\yolo-footballvision-project\\.conda\\lib\\site-packages (from ultralytics) (0.22.0)\n",
      "Requirement already satisfied: tqdm>=4.64.0 in c:\\users\\88018\\desktop\\yolo-footballvision-project\\.conda\\lib\\site-packages (from ultralytics) (4.67.1)\n",
      "Requirement already satisfied: psutil in c:\\users\\88018\\desktop\\yolo-footballvision-project\\.conda\\lib\\site-packages (from ultralytics) (7.0.0)\n",
      "Requirement already satisfied: py-cpuinfo in c:\\users\\88018\\desktop\\yolo-footballvision-project\\.conda\\lib\\site-packages (from ultralytics) (9.0.0)\n",
      "Requirement already satisfied: pandas>=1.1.4 in c:\\users\\88018\\desktop\\yolo-footballvision-project\\.conda\\lib\\site-packages (from ultralytics) (2.2.3)\n",
      "Requirement already satisfied: ultralytics-thop>=2.0.0 in c:\\users\\88018\\desktop\\yolo-footballvision-project\\.conda\\lib\\site-packages (from ultralytics) (2.0.14)\n",
      "Requirement already satisfied: contourpy>=1.0.1 in c:\\users\\88018\\desktop\\yolo-footballvision-project\\.conda\\lib\\site-packages (from matplotlib>=3.3.0->ultralytics) (1.3.2)\n",
      "Requirement already satisfied: cycler>=0.10 in c:\\users\\88018\\desktop\\yolo-footballvision-project\\.conda\\lib\\site-packages (from matplotlib>=3.3.0->ultralytics) (0.12.1)\n",
      "Requirement already satisfied: fonttools>=4.22.0 in c:\\users\\88018\\desktop\\yolo-footballvision-project\\.conda\\lib\\site-packages (from matplotlib>=3.3.0->ultralytics) (4.58.1)\n",
      "Requirement already satisfied: kiwisolver>=1.3.1 in c:\\users\\88018\\desktop\\yolo-footballvision-project\\.conda\\lib\\site-packages (from matplotlib>=3.3.0->ultralytics) (1.4.8)\n",
      "Requirement already satisfied: packaging>=20.0 in c:\\users\\88018\\desktop\\yolo-footballvision-project\\.conda\\lib\\site-packages (from matplotlib>=3.3.0->ultralytics) (25.0)\n",
      "Requirement already satisfied: pyparsing>=2.3.1 in c:\\users\\88018\\desktop\\yolo-footballvision-project\\.conda\\lib\\site-packages (from matplotlib>=3.3.0->ultralytics) (3.2.3)\n",
      "Requirement already satisfied: python-dateutil>=2.7 in c:\\users\\88018\\desktop\\yolo-footballvision-project\\.conda\\lib\\site-packages (from matplotlib>=3.3.0->ultralytics) (2.9.0.post0)\n",
      "Requirement already satisfied: pytz>=2020.1 in c:\\users\\88018\\desktop\\yolo-footballvision-project\\.conda\\lib\\site-packages (from pandas>=1.1.4->ultralytics) (2025.2)\n",
      "Requirement already satisfied: tzdata>=2022.7 in c:\\users\\88018\\desktop\\yolo-footballvision-project\\.conda\\lib\\site-packages (from pandas>=1.1.4->ultralytics) (2025.2)\n",
      "Requirement already satisfied: six>=1.5 in c:\\users\\88018\\desktop\\yolo-footballvision-project\\.conda\\lib\\site-packages (from python-dateutil>=2.7->matplotlib>=3.3.0->ultralytics) (1.17.0)\n",
      "Requirement already satisfied: charset-normalizer<4,>=2 in c:\\users\\88018\\desktop\\yolo-footballvision-project\\.conda\\lib\\site-packages (from requests>=2.23.0->ultralytics) (3.4.2)\n",
      "Requirement already satisfied: idna<4,>=2.5 in c:\\users\\88018\\desktop\\yolo-footballvision-project\\.conda\\lib\\site-packages (from requests>=2.23.0->ultralytics) (3.10)\n",
      "Requirement already satisfied: urllib3<3,>=1.21.1 in c:\\users\\88018\\desktop\\yolo-footballvision-project\\.conda\\lib\\site-packages (from requests>=2.23.0->ultralytics) (2.4.0)\n",
      "Requirement already satisfied: certifi>=2017.4.17 in c:\\users\\88018\\desktop\\yolo-footballvision-project\\.conda\\lib\\site-packages (from requests>=2.23.0->ultralytics) (2025.4.26)\n",
      "Requirement already satisfied: filelock in c:\\users\\88018\\desktop\\yolo-footballvision-project\\.conda\\lib\\site-packages (from torch>=1.8.0->ultralytics) (3.18.0)\n",
      "Requirement already satisfied: typing-extensions>=4.10.0 in c:\\users\\88018\\desktop\\yolo-footballvision-project\\.conda\\lib\\site-packages (from torch>=1.8.0->ultralytics) (4.13.2)\n",
      "Requirement already satisfied: sympy>=1.13.3 in c:\\users\\88018\\desktop\\yolo-footballvision-project\\.conda\\lib\\site-packages (from torch>=1.8.0->ultralytics) (1.14.0)\n",
      "Requirement already satisfied: networkx in c:\\users\\88018\\desktop\\yolo-footballvision-project\\.conda\\lib\\site-packages (from torch>=1.8.0->ultralytics) (3.5)\n",
      "Requirement already satisfied: jinja2 in c:\\users\\88018\\desktop\\yolo-footballvision-project\\.conda\\lib\\site-packages (from torch>=1.8.0->ultralytics) (3.1.6)\n",
      "Requirement already satisfied: fsspec in c:\\users\\88018\\desktop\\yolo-footballvision-project\\.conda\\lib\\site-packages (from torch>=1.8.0->ultralytics) (2025.5.1)\n",
      "Requirement already satisfied: mpmath<1.4,>=1.1.0 in c:\\users\\88018\\desktop\\yolo-footballvision-project\\.conda\\lib\\site-packages (from sympy>=1.13.3->torch>=1.8.0->ultralytics) (1.3.0)\n",
      "Requirement already satisfied: colorama in c:\\users\\88018\\desktop\\yolo-footballvision-project\\.conda\\lib\\site-packages (from tqdm>=4.64.0->ultralytics) (0.4.6)\n",
      "Requirement already satisfied: MarkupSafe>=2.0 in c:\\users\\88018\\desktop\\yolo-footballvision-project\\.conda\\lib\\site-packages (from jinja2->torch>=1.8.0->ultralytics) (3.0.2)\n",
      "Note: you may need to restart the kernel to use updated packages.\n",
      "Collecting roboflow\n",
      "  Using cached roboflow-1.1.65-py3-none-any.whl.metadata (9.7 kB)\n",
      "Requirement already satisfied: certifi in c:\\users\\88018\\desktop\\yolo-footballvision-project\\.conda\\lib\\site-packages (from roboflow) (2025.4.26)\n",
      "Collecting idna==3.7 (from roboflow)\n",
      "  Using cached idna-3.7-py3-none-any.whl.metadata (9.9 kB)\n",
      "Requirement already satisfied: cycler in c:\\users\\88018\\desktop\\yolo-footballvision-project\\.conda\\lib\\site-packages (from roboflow) (0.12.1)\n",
      "Requirement already satisfied: kiwisolver>=1.3.1 in c:\\users\\88018\\desktop\\yolo-footballvision-project\\.conda\\lib\\site-packages (from roboflow) (1.4.8)\n",
      "Requirement already satisfied: matplotlib in c:\\users\\88018\\desktop\\yolo-footballvision-project\\.conda\\lib\\site-packages (from roboflow) (3.10.3)\n",
      "Requirement already satisfied: numpy>=1.18.5 in c:\\users\\88018\\desktop\\yolo-footballvision-project\\.conda\\lib\\site-packages (from roboflow) (2.2.6)\n",
      "Collecting opencv-python-headless==4.10.0.84 (from roboflow)\n",
      "  Using cached opencv_python_headless-4.10.0.84-cp37-abi3-win_amd64.whl.metadata (20 kB)\n",
      "Requirement already satisfied: Pillow>=7.1.2 in c:\\users\\88018\\desktop\\yolo-footballvision-project\\.conda\\lib\\site-packages (from roboflow) (11.2.1)\n",
      "Collecting pillow-heif>=0.18.0 (from roboflow)\n",
      "  Using cached pillow_heif-0.22.0-cp311-cp311-win_amd64.whl.metadata (9.8 kB)\n",
      "Requirement already satisfied: python-dateutil in c:\\users\\88018\\desktop\\yolo-footballvision-project\\.conda\\lib\\site-packages (from roboflow) (2.9.0.post0)\n",
      "Collecting python-dotenv (from roboflow)\n",
      "  Using cached python_dotenv-1.1.0-py3-none-any.whl.metadata (24 kB)\n",
      "Requirement already satisfied: requests in c:\\users\\88018\\desktop\\yolo-footballvision-project\\.conda\\lib\\site-packages (from roboflow) (2.32.3)\n",
      "Requirement already satisfied: six in c:\\users\\88018\\desktop\\yolo-footballvision-project\\.conda\\lib\\site-packages (from roboflow) (1.17.0)\n",
      "Requirement already satisfied: urllib3>=1.26.6 in c:\\users\\88018\\desktop\\yolo-footballvision-project\\.conda\\lib\\site-packages (from roboflow) (2.4.0)\n",
      "Requirement already satisfied: tqdm>=4.41.0 in c:\\users\\88018\\desktop\\yolo-footballvision-project\\.conda\\lib\\site-packages (from roboflow) (4.67.1)\n",
      "Requirement already satisfied: PyYAML>=5.3.1 in c:\\users\\88018\\desktop\\yolo-footballvision-project\\.conda\\lib\\site-packages (from roboflow) (6.0.2)\n",
      "Collecting requests-toolbelt (from roboflow)\n",
      "  Using cached requests_toolbelt-1.0.0-py2.py3-none-any.whl.metadata (14 kB)\n",
      "Requirement already satisfied: filetype in c:\\users\\88018\\desktop\\yolo-footballvision-project\\.conda\\lib\\site-packages (from roboflow) (1.2.0)\n",
      "Requirement already satisfied: colorama in c:\\users\\88018\\desktop\\yolo-footballvision-project\\.conda\\lib\\site-packages (from tqdm>=4.41.0->roboflow) (0.4.6)\n",
      "Requirement already satisfied: contourpy>=1.0.1 in c:\\users\\88018\\desktop\\yolo-footballvision-project\\.conda\\lib\\site-packages (from matplotlib->roboflow) (1.3.2)\n",
      "Requirement already satisfied: fonttools>=4.22.0 in c:\\users\\88018\\desktop\\yolo-footballvision-project\\.conda\\lib\\site-packages (from matplotlib->roboflow) (4.58.1)\n",
      "Requirement already satisfied: packaging>=20.0 in c:\\users\\88018\\desktop\\yolo-footballvision-project\\.conda\\lib\\site-packages (from matplotlib->roboflow) (25.0)\n",
      "Requirement already satisfied: pyparsing>=2.3.1 in c:\\users\\88018\\desktop\\yolo-footballvision-project\\.conda\\lib\\site-packages (from matplotlib->roboflow) (3.2.3)\n",
      "Requirement already satisfied: charset-normalizer<4,>=2 in c:\\users\\88018\\desktop\\yolo-footballvision-project\\.conda\\lib\\site-packages (from requests->roboflow) (3.4.2)\n",
      "Using cached roboflow-1.1.65-py3-none-any.whl (85 kB)\n",
      "Using cached idna-3.7-py3-none-any.whl (66 kB)\n",
      "Using cached opencv_python_headless-4.10.0.84-cp37-abi3-win_amd64.whl (38.8 MB)\n",
      "Using cached pillow_heif-0.22.0-cp311-cp311-win_amd64.whl (8.6 MB)\n",
      "Using cached python_dotenv-1.1.0-py3-none-any.whl (20 kB)\n",
      "Using cached requests_toolbelt-1.0.0-py2.py3-none-any.whl (54 kB)\n",
      "Installing collected packages: python-dotenv, pillow-heif, opencv-python-headless, idna, requests-toolbelt, roboflow\n",
      "\n",
      "   ---------------------------------------- 0/6 [python-dotenv]\n",
      "   ------ --------------------------------- 1/6 [pillow-heif]\n",
      "   ------ --------------------------------- 1/6 [pillow-heif]\n",
      "   ------------- -------------------------- 2/6 [opencv-python-headless]\n",
      "   ------------- -------------------------- 2/6 [opencv-python-headless]\n",
      "   ------------- -------------------------- 2/6 [opencv-python-headless]\n",
      "   ------------- -------------------------- 2/6 [opencv-python-headless]\n",
      "   ------------- -------------------------- 2/6 [opencv-python-headless]\n",
      "  Attempting uninstall: idna\n",
      "   ------------- -------------------------- 2/6 [opencv-python-headless]\n",
      "    Found existing installation: idna 3.10\n",
      "   ------------- -------------------------- 2/6 [opencv-python-headless]\n",
      "    Uninstalling idna-3.10:\n",
      "   ------------- -------------------------- 2/6 [opencv-python-headless]\n",
      "      Successfully uninstalled idna-3.10\n",
      "   ------------- -------------------------- 2/6 [opencv-python-headless]\n",
      "   -------------------- ------------------- 3/6 [idna]\n",
      "   -------------------- ------------------- 3/6 [idna]\n",
      "   -------------------------- ------------- 4/6 [requests-toolbelt]\n",
      "   -------------------------- ------------- 4/6 [requests-toolbelt]\n",
      "   -------------------------- ------------- 4/6 [requests-toolbelt]\n",
      "   --------------------------------- ------ 5/6 [roboflow]\n",
      "   --------------------------------- ------ 5/6 [roboflow]\n",
      "   --------------------------------- ------ 5/6 [roboflow]\n",
      "   --------------------------------- ------ 5/6 [roboflow]\n",
      "   ---------------------------------------- 6/6 [roboflow]\n",
      "\n",
      "Successfully installed idna-3.7 opencv-python-headless-4.10.0.84 pillow-heif-0.22.0 python-dotenv-1.1.0 requests-toolbelt-1.0.0 roboflow-1.1.65\n",
      "Note: you may need to restart the kernel to use updated packages.\n"
     ]
    }
   ],
   "source": [
    "%pip install ultralytics\n",
    "%pip install roboflow"
   ]
  },
  {
   "cell_type": "markdown",
   "id": "61437266",
   "metadata": {},
   "source": [
    "# Get dataset"
   ]
  },
  {
   "cell_type": "code",
   "execution_count": 4,
   "id": "c2df1b9e",
   "metadata": {},
   "outputs": [
    {
     "name": "stdout",
     "output_type": "stream",
     "text": [
      "loading Roboflow workspace...\n",
      "loading Roboflow project...\n"
     ]
    }
   ],
   "source": [
    "from roboflow import Roboflow \n",
    "\n",
    "rf = Roboflow(api_key=\"ExC2pL1MgGStY2HiA9Nr\")\n",
    "project = rf.workspace(\"roboflow-jvuqo\").project(\"football-players-detection-3zvbc\")\n",
    "version = project.version(2)\n",
    "dataset = version.download(\"yolov5\")\n",
    "                "
   ]
  },
  {
   "cell_type": "code",
   "execution_count": 5,
   "id": "e46cc55d",
   "metadata": {},
   "outputs": [
    {
     "data": {
      "text/plain": [
       "'c:\\\\Users\\\\88018\\\\Desktop\\\\YOLO-FootballVision-Project\\\\training\\\\football-players-detection-2'"
      ]
     },
     "execution_count": 5,
     "metadata": {},
     "output_type": "execute_result"
    }
   ],
   "source": [
    "dataset.location"
   ]
  },
  {
   "cell_type": "code",
   "execution_count": 7,
   "id": "6e533a8b",
   "metadata": {},
   "outputs": [
    {
     "data": {
      "text/plain": [
       "'football-players-detection-2/football-players-detection-2/valid'"
      ]
     },
     "execution_count": 7,
     "metadata": {},
     "output_type": "execute_result"
    }
   ],
   "source": [
    "import shutil\n",
    "\n",
    "shutil.move('football-players-detection-2/train',\n",
    "            'football-players-detection-2/football-players-detection-2/train')\n",
    "shutil.move('football-players-detection-2/test',\n",
    "            'football-players-detection-2/football-players-detection-2/test')\n",
    "shutil.move('football-players-detection-2/valid',\n",
    "            'football-players-detection-2/football-players-detection-2/valid')"
   ]
  },
  {
   "cell_type": "markdown",
   "id": "82c187a5",
   "metadata": {},
   "source": [
    "# Training\n"
   ]
  },
  {
   "cell_type": "code",
   "execution_count": 6,
   "id": "7a46a76c",
   "metadata": {},
   "outputs": [
    {
     "name": "stdout",
     "output_type": "stream",
     "text": [
      "^C\n"
     ]
    }
   ],
   "source": [
    "!yolo task=detect mode=train model=yolov5x.pt data={dataset.location}/data.yaml epochs=100 imgsz=640"
   ]
  }
 ],
 "metadata": {
  "kernelspec": {
   "display_name": "Python 3",
   "language": "python",
   "name": "python3"
  },
  "language_info": {
   "codemirror_mode": {
    "name": "ipython",
    "version": 3
   },
   "file_extension": ".py",
   "mimetype": "text/x-python",
   "name": "python",
   "nbconvert_exporter": "python",
   "pygments_lexer": "ipython3",
   "version": "3.11.11"
  }
 },
 "nbformat": 4,
 "nbformat_minor": 5
}
